{
 "cells": [
  {
   "cell_type": "markdown",
   "id": "1c31c2f4",
   "metadata": {},
   "source": [
    "Experiment 2: Vary the momentum value\n",
    "    where m = 0,0.25,5"
   ]
  },
  {
   "cell_type": "code",
   "execution_count": 1,
   "id": "ea0af4fd",
   "metadata": {},
   "outputs": [],
   "source": [
    "#Import the necessary libraries\n",
    "import csv\n",
    "import time\n",
    "import matplotlib\n",
    "import numpy\n",
    "from scipy.special import expit"
   ]
  },
  {
   "cell_type": "code",
   "execution_count": 2,
   "id": "291db7b4",
   "metadata": {},
   "outputs": [],
   "source": [
    "#Initializing the values \n",
    "epochs = 50\n",
    "eta = 0.1\n",
    "#To vary the momentum vale, change the values of m - 0.25,0.5\n",
    "m = 0"
   ]
  },
  {
   "cell_type": "code",
   "execution_count": 3,
   "id": "32a8c195",
   "metadata": {},
   "outputs": [],
   "source": [
    "#bias input\n",
    "bias_input = 1"
   ]
  },
  {
   "cell_type": "code",
   "execution_count": 4,
   "id": "1276832a",
   "metadata": {},
   "outputs": [],
   "source": [
    "#input layer weight matrix.\n",
    "weight_input = numpy.random.uniform(-0.05,0.05,(784,100))\n",
    "\n",
    "#hidden layer weight matrix.\n",
    "weight_hidden = numpy.random.uniform(-0.05,0.05,(100,10))"
   ]
  },
  {
   "cell_type": "code",
   "execution_count": 5,
   "id": "66e52d42",
   "metadata": {},
   "outputs": [],
   "source": [
    "#bias weights for hidden layer.\n",
    "weight_ib = numpy.random.uniform(-0.05,0.05,(1,100))\n",
    "\n",
    "#bias weights for output layer.\n",
    "weight_ob = numpy.random.uniform(-0.05,0.05,(1,10))"
   ]
  },
  {
   "cell_type": "code",
   "execution_count": 6,
   "id": "83695048",
   "metadata": {},
   "outputs": [],
   "source": [
    "#matrix to store previous hidden layer bias weights\n",
    "it_weight_ib = numpy.zeros((1,100))\n",
    "\n",
    "#matrix to store previous output layer bias weights.\n",
    "it_weight_ob = numpy.zeros((1,10))\n",
    "\n",
    "#matrix to store previous input-hidden layer weights.\n",
    "it_weight_ih = numpy.zeros((784,100))\n",
    "\n",
    "#matrix to store previous hidden-output layer weights.\n",
    "it_weight_ho = numpy.zeros((100,10))"
   ]
  },
  {
   "cell_type": "code",
   "execution_count": null,
   "id": "9810b216",
   "metadata": {},
   "outputs": [],
   "source": [
    "inputs = numpy.genfromtxt('mnist_train.csv',delimiter=',')\n",
    "test = numpy.genfromtxt('mnist_test.csv',delimiter=',') \n",
    "#Each output unit corresponds to one of the ten classes ( 0 to 9)\n",
    "classes = numpy.array([0,1,2,3,4,5,6,7,8,9])"
   ]
  },
  {
   "cell_type": "code",
   "execution_count": 7,
   "id": "7f186ec9",
   "metadata": {},
   "outputs": [],
   "source": [
    "def sigmoid(n):\n",
    "    return expit(n)"
   ]
  },
  {
   "cell_type": "code",
   "execution_count": null,
   "id": "1c26b99d",
   "metadata": {},
   "outputs": [],
   "source": [
    "def feedForward(e,inputs,labels,setName):\n",
    "    global weight_input,weight_hidden,bias_input,weight_ib,weight_ob,it_weight_ib,it_weight_ob,it_weight_ih,it_weight_ho\n",
    "     actual = []\n",
    "    predictions = []\n",
    "        \n",
    "    for i in range(inputs.shape[0]):\n",
    "        actual.append(labels[i])\n",
    "        inputData = numpy.reshape(inputs[i],(1,inputs[i].shape[0])) l1 = bias_input*w1b\n",
    "        z1 = numpy.dot(inputData,w1) + l1\n",
    "        a1 = sigmoid(z1)\n",
    "        l2 = bias_input*weight_ob\n",
    "        z2 = numpy.dot(a1,weight_hidden) + l2\n",
    "        a2 = sigmoid(z2)\n",
    "        prediction = numpy.argmax(a2)\n",
    "        predictions.append(prediction)\n",
    "        \n",
    "        if(setName == 'training' and e != 0):\n",
    "             it_weight_ib,it_weight_ob,it_weight_ih,it_weight_ho = learn(e,inputData,a1,a2,prediction,labels[i])\n",
    "                \n",
    "    generateConfusionMatrix(e,classes,numpy.array(actual),numpy.array(predictions),setName,it_weight_ib.shape[1])\n",
    "    time.sleep(2)"
   ]
  },
  {
   "cell_type": "code",
   "execution_count": null,
   "id": "7b88e389",
   "metadata": {},
   "outputs": [],
   "source": [
    "def learn(epochs,inputs,a1,a2,prediction,label):\n",
    "    global bias_input,weight_hidden,weight_ob,eta,m,it_weight_ob,it_weight_ho\n",
    "    hotVector = numpy.insert((numpy.zeros((1,9))+0.1),label,0.9)\n",
    "    errors2 = a2 * (1 - a2) * (hotVector - a2)\n",
    "    errors1 = a1 * (1 - a1) * numpy.dot(errors2,numpy.transpose(w2))\n",
    "    oldweight_hidden = updateWeightsH(epochs,a1,errors2)\n",
    "    oldweight_input = updateWeightsI(epochs,inputs,errors1)\n",
    "    return oldweight_input[0],oldweight_input[1],oldweight_hidden[0],oldweight_hidden[1]"
   ]
  },
  {
   "cell_type": "code",
   "execution_count": null,
   "id": "5bbed947",
   "metadata": {},
   "outputs": [],
   "source": [
    "def updateWeightsH(epochs,a1,errors):\n",
    "    global bias_input,weight_ob,weight_hidden,eta,m,it_weight_ho,it_weight_ob \n",
    "    deltaw2b = (eta * numpy.dot(errors,biasInput)) + (m * it_weight_ob )\n",
    "    weight_ob = weight_ob + deltaw2b\n",
    "    deltaw2 = (eta * numpy.dot(numpy.transpose(a1),errors)) + (m * it_weight_ho) \n",
    "    weight_hidden = weight_hidden + deltaw2\n",
    "    return deltaw2b,deltaw2"
   ]
  },
  {
   "cell_type": "code",
   "execution_count": null,
   "id": "27b067ec",
   "metadata": {},
   "outputs": [],
   "source": [
    "#update\n",
    "def updateWeightsI(epochs,inputs,errors):\n",
    "    global bias_input,weight_ib,weight_input,eta,m,it_weight_ib,it_weight_ih\n",
    "    deltaw1b = (eta * numpy.dot(errors,bias_input)) + (m * it_weight_ib)\n",
    "    weight_ib = weight_ib + deltaw1b\n",
    "    deltaw1 = (eta * numpy.dot(numpy.transpose(inputs),errors)) + (m * it_weight_ih)\n",
    "    weight_input = weight_input + deltaw1\n",
    "    return deltaw1b,deltaw1"
   ]
  },
  {
   "cell_type": "code",
   "execution_count": null,
   "id": "0a958edf",
   "metadata": {},
   "outputs": [],
   "source": [
    "def grabLabels(inputs):\n",
    "        labels = numpy.zeros(inputs.shape[0],numpy.int32) \n",
    "        for i in range(inputs.shape[0]):\n",
    "             labels[i] = inputs[i,0]\n",
    "        return labels"
   ]
  },
  {
   "cell_type": "code",
   "execution_count": null,
   "id": "ad271de3",
   "metadata": {},
   "outputs": [],
   "source": [
    "def preProcessInput(inputs):\n",
    "    for i in range(inputs.shape[0]):\n",
    "        inputs[i,:] = inputs[i,:]/255.0\n",
    "        return inputs[:,1:]"
   ]
  },
  {
   "cell_type": "code",
   "execution_count": null,
   "id": "35272a07",
   "metadata": {},
   "outputs": [],
   "source": [
    "def generateConfusionMatrix(epoch,classes,actual,predictions,setName,n): \n",
    "    global eta\n",
    "    confusionMatrix = numpy.zeros((len(classes),len(classes)),numpy.int32) \n",
    "    for a,p in zip(actual,predictions):\n",
    "         confusionMatrix[a][p] = confusionMatrix[a][p] + 1\n",
    "     #end\n",
    "    printConfusionMatrix(confusionMatrix)\n",
    "    accuracy = (actual == predictions).sum()/float(len(actual))*100 \n",
    "    print(setName+\" - accuracy:\",accuracy)\n",
    "    writeData(eta,epoch,accuracy,setName,n)"
   ]
  },
  {
   "cell_type": "code",
   "execution_count": null,
   "id": "1446c90b",
   "metadata": {},
   "outputs": [],
   "source": [
    "def writeData(eta,epoch,accuracy,setName,n):\n",
    "    global alpha,inputs\n",
    "    f = open('exp-2 0-'+setName+'-.csv', 'a',newline='') \n",
    "    with f:\n",
    "        writer = csv.writer(f)\n",
    "        writer.writerow([epoch,accuracy])"
   ]
  },
  {
   "cell_type": "code",
   "execution_count": null,
   "id": "28bfef8f",
   "metadata": {},
   "outputs": [],
   "source": [
    "def printConfusionMatrix(confusionMatrix): \n",
    "    print(\"confusion matrix\\n\")\n",
    "    for i in range(confusionMatrix.shape[0]):\n",
    "        print(confusionMatrix[i])"
   ]
  },
  {
   "cell_type": "code",
   "execution_count": null,
   "id": "faebe9e7",
   "metadata": {},
   "outputs": [],
   "source": [
    "def start():\n",
    "       global epochs,inputs,test,testData,it_weight_ib,it_weight_ob,it_weight_ih,it_weight_ho\n",
    "        labels = grabLabels(inputs)\n",
    "        inputs = preProcessInput(inputs)\n",
    "        testLabels = grabLabels(test)\n",
    "        testData = preProcessInput(test)\n",
    "        for e in range(epochs):\n",
    "             print(\"\\nepoch : \",e)\n",
    "            feedForward(e,inputs,labels,'training') \n",
    "            feedForward(e,testData,testLabels,'testing')"
   ]
  },
  {
   "cell_type": "code",
   "execution_count": null,
   "id": "b08d6e1c",
   "metadata": {},
   "outputs": [],
   "source": [
    "numpy.random.seed(None)\n",
    "start()"
   ]
  },
  {
   "cell_type": "code",
   "execution_count": null,
   "id": "3052a620",
   "metadata": {},
   "outputs": [],
   "source": [
    "# Plotting the graph\n",
    "import matplotlib.pyplot as plt \n",
    "import numpy as np\n",
    "x1, y1 = np.loadtxt('exp-2 0training.csv', delimiter=',', unpack=True) \n",
    "x2, y2 = np.loadtxt('exp-2 0testing.csv', delimiter=',', unpack=True) \n",
    "fig, ax = plt.subplots()\n",
    "plt.plot(x1,y1, label='Training Set')\n",
    "plt.plot(x2,y2, label='Testing Set')\n",
    "plt.xlabel('Epochs')\n",
    "plt.ylabel('Accuracy (%)')\n",
    "plt.legend(loc='lower right')\n",
    "plt.show()"
   ]
  }
 ],
 "metadata": {
  "kernelspec": {
   "display_name": "Python 3",
   "language": "python",
   "name": "python3"
  },
  "language_info": {
   "codemirror_mode": {
    "name": "ipython",
    "version": 3
   },
   "file_extension": ".py",
   "mimetype": "text/x-python",
   "name": "python",
   "nbconvert_exporter": "python",
   "pygments_lexer": "ipython3",
   "version": "3.8.8"
  }
 },
 "nbformat": 4,
 "nbformat_minor": 5
}
